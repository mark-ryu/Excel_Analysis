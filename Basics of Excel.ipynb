{
 "cells": [
  {
   "cell_type": "markdown",
   "metadata": {},
   "source": [
    "# Starting Out\n",
    "\n",
    "You can perform analysis through excel especially when your dataset is smaller compared to the big data that comes to large tech companies like Google or Uber. People have been using excel for over many years and is quite useful and improved with many visualizations and other useful tools. What's more is that it doesn't need you to know a single programming language.\n",
    "\n",
    "If you have a dataset (csv file, spreadsheet file, etc...), you can use `text to columns` if the data is initially all placed in a single column. Choose a delimiter and just \"Okay\" if the settings are okay for you.\n",
    "\n",
    "If your data has columns and rows completely filled out, you are good to go. This is assuming that your data is a **clean data**.\n",
    "\n",
    "Clicking one cell of the data and checking the Insert table option will make a table out of your data or spreadsheet. The data can now be sorted or filtered via the column names in the drop down arrow from the headers. You should check first if your data has headers. (It's always better to have the headers)"
   ]
  },
  {
   "cell_type": "markdown",
   "metadata": {},
   "source": [
    "This is the initial look of the data.<br>\n",
    "<img src = 'initial.png'>"
   ]
  },
  {
   "cell_type": "markdown",
   "metadata": {},
   "source": [
    "Select cell A1, and then on the Insert tab of the ribbon above the worksheet, click Table. Verify that Excel has automatically detected the data in the range A1:G366, and that the My table has headers checkbox is selected, and then click OK;"
   ]
  },
  {
   "cell_type": "markdown",
   "metadata": {},
   "source": [
    "This is what it should look like. <br>\n",
    "<img src = ' table.png'>\n",
    "\n",
    "The file was initially a `csv file` so the file isn't formatted in a way that is aesthetically fine for Excel.\n",
    "\n",
    "You can see the **drop down arrow in the headers.** This means you can do things like `sort` or `filter`.\n",
    "\n",
    "Since you can filter, then you can only show which values be shown at a single point of time. Of course the data should be first readily available and cleaned first. You can do the cleaning by using these functions. If for example there's an enormously outlying data. This could mean that the data was mistyped or erratically placed into the data.\n",
    "\n",
    "Sort it by descending or ascending to check the differences in data and get the feel or hang of what are the data involved.\n",
    "\n",
    "There are also `number filters and color filters` in that drop down list. It will filter out above average values, greater thans or equals."
   ]
  },
  {
   "cell_type": "markdown",
   "metadata": {},
   "source": [
    "You can also aggregate the data through each of the functions. For example, you can filter all Sundays and sort it by sales. Through this you can get the hang of combining functions in order to see or do computations by segregating only the data needed."
   ]
  },
  {
   "cell_type": "markdown",
   "metadata": {},
   "source": [
    "You can insert another column and use this code:\n",
    "\n",
    ">`=TEXT(A2, \"mmmm\") `\n",
    "\n",
    "This will produce all the months from the data within the Cell A2 as a reference.\n",
    "If you add a column when excel recognizes it as a table, the formula used in the single cell will be applied on all rows.\n",
    "\n",
    "On the Home tab of the ribbon, in the Number section, in the Accounting Number Format (dollar sign) drop-down list, select dollar sign English (United States).\n",
    "This will add the currency used in the data altogether."
   ]
  },
  {
   "cell_type": "markdown",
   "metadata": {},
   "source": [
    "If you scroll to the last row of the data and select the cell under the column you want to do something you can<br> \n",
    ">On the Home tab of the ribbon, in the Editing section, in the AutoSum (Σ) drop-down menu, click Σ Sum. This enters the following formula: <br>\n",
    "`=SUBTOTAL(109,[Revenue])`<br>\n",
    "\n",
    "This formula references Revenue as a named column in the table and calculates the total of the values in that column. You could achieve the same result by entering =SUM(I2:I366)but by using the AutoSum function, the value is included in the definition of the table: \n",
    "\n",
    "*Use autosum under the Home > Edit area so that the data will automatically adjust when filtered accordingly*\n",
    "\n",
    "This command or function in a cell `=TEXT(A2, \"mm/dd/yy\")` will change a date into that setting or format. I have had problems with this in my experience when the columns on dates are all formatted in the wrong way.\n",
    "\n",
    "At the end of the columns you can use the `auto sum` function so that when you filter out your data, the sum or the values inside the function will automatically adjust on the filtered data."
   ]
  },
  {
   "cell_type": "markdown",
   "metadata": {},
   "source": [
    "## Creating a pivot table out of your data\n",
    "\n",
    "Clicking a cell in your data and then checking in your insert ribbon, there is an option called `Pivot Table`. This will create a pivot table out from your data with the 4 options in your right side of the screen. Namely:\n",
    "\n",
    "**Filters**\n",
    "\n",
    "In this one, you can drag the data and place it into the filtered area. You can filter for example specified months in your data so that it will only show the data that you want to manipulate or have an effect on other data that you are seeing. \n",
    "\n",
    "**Columns**\n",
    "\n",
    "This is the columns that you want the data to show. You can edit this too via the drop down arrow.\n",
    "\n",
    "**Rows**\n",
    "\n",
    "The rows usually contain the values. In the rows will show which data shall be placed in rows.\n",
    "\n",
    "**Values**\n",
    "\n",
    "In the values, well the values placed in between the rows and columns. You can edit the values via the drop-down arrow, for example average/sum/std. deviation and others.\n",
    "\n",
    "<img src = \"pivot.png\">"
   ]
  },
  {
   "cell_type": "markdown",
   "metadata": {},
   "source": [
    "In your **pivot table**, you can create a chart out of this. If for example you want to create the table that only contains specific dates with it's specific values(mean/sum/etc..) you then can create charts out of your pivoted table. You can do this by simply copying the data of your new pivot table into a blank sheet (preferably, but just some blank cells will do) and then click the insert chart. You can then choose the chart of your choice depending on what type of visualization that you want to perceive.\n",
    "\n",
    "For **bar graphs**, pay close attention to labels, because in graphs the difference might be very noticeable but the label says otherwise. A good example would be an obvious difference between two bars but the labels on the y axis only tells you that the difference is even insignificant. It means the labels are on a very tiny scale but shows a difference through visualizations. \n",
    "\n",
    "For **pie chart**. Select the pie chart and on the Chart tab, in the Data Labels drop-down list, select Inside End. This displays the actual data amounts in the chart, like this: (insert pie chart picture)"
   ]
  },
  {
   "cell_type": "markdown",
   "metadata": {},
   "source": [
    "## Conditional Formatting"
   ]
  },
  {
   "cell_type": "markdown",
   "metadata": {},
   "source": [
    "You can also use `conditional formatting` depending on your data. You can use bar graphs visible on the data or `color scaling` where the darker the color becomes when the data is highest and lowest if it's the opposite. It is easier to notice and check out the data visually if it is formatted this way.\n",
    "\n",
    "In conditional formatting you can also select the `Top/Bottom rules`. The top/bottom 10% will be highlighted or formatted into a different color if it matches the condition you set, in this case being in the top/bottom 10%."
   ]
  },
  {
   "cell_type": "markdown",
   "metadata": {},
   "source": [
    "Highlighting Extremes and Outliers \n",
    "\n",
    "\n",
    "On the Home tab of the ribbon, in the Conditional Formatting drop-down list, point to Color Scales, select the appropriate formatting for your data."
   ]
  },
  {
   "cell_type": "markdown",
   "metadata": {},
   "source": [
    "There are:\n",
    "\n",
    "1. Color Scaling\n",
    "    - Scale of colors with higher numbers resulting to darker colors or vice versa.\n",
    "2. Data Bars\n",
    "    - gradient fill is represented by horizontal bars which indicates higher numerical value and is proportional to the cell size.\n",
    "3. Top/Bottom Rules\n",
    "    - These are top 10% or lowest 10% values that are highlighted depending on the color you have chosen to be appropriate."
   ]
  },
  {
   "cell_type": "markdown",
   "metadata": {},
   "source": [
    "## Charts"
   ]
  },
  {
   "cell_type": "markdown",
   "metadata": {},
   "source": [
    "<img src = \"histogram.png\">"
   ]
  },
  {
   "cell_type": "markdown",
   "metadata": {},
   "source": [
    "In a normal distribution, around 68.26% of the data falls within a single standard deviation. *Normally, but not all the time*\n",
    "\n",
    "There is a chart called `box and whiskers plot`. \n",
    "\n",
    "<img src = \"whiskers.png\">"
   ]
  },
  {
   "cell_type": "markdown",
   "metadata": {},
   "source": [
    "The *horizontal line* in the middle indicates the median value for sales. This is the 50% percentile – in other words, 50% of the values are higher than this, and 50% are lower. \n",
    "\n",
    "• The *X* in the box indicates the mean – this is only slightly higher than the median. \n",
    "\n",
    "• The *filled box* indicates the range of values in the second and third quartiles – in other words, from the 25th percentile to the 75th percentile. These values range from around 20 to 30, indicating that the number of sales on half of the days was within this range,  \n",
    "\n",
    "• The *lines extending from the box (known as whiskers)* show the range for the first and fourth quartiles, on which there were more or fewer sales than in the second and third quartiles."
   ]
  },
  {
   "cell_type": "markdown",
   "metadata": {},
   "source": [
    "For the **line graphs**, here is an example.\n",
    "\n",
    "<img src = \"line_graph.png\">"
   ]
  },
  {
   "cell_type": "markdown",
   "metadata": {},
   "source": [
    "### Important note. \n",
    "Do not take the data directly from the pivot table. Copy the entries from the pivot table then copy it into a new worksheet. Highlight the copied data and use this data to create a chart of your choice.\n",
    "\n",
    "This one next is a pie chart.\n",
    "\n",
    "<img src = \"pie_graph.png\">"
   ]
  },
  {
   "cell_type": "markdown",
   "metadata": {},
   "source": [
    "I used a pivot table and then filter out what data that I wanted. From this, I copied the data into a new sheet. From the new sheet, I used the data to create a pie chart. There is an option in `chart element` where you can let the label sit inside the pie chart. You can also edit the colors so that it is highlighted or at least visible for you to see."
   ]
  },
  {
   "cell_type": "markdown",
   "metadata": {},
   "source": [
    "*In a scatter plot, the first series will always be in your horizontal axis.*\n",
    "\n",
    "<img src = \"scatter_plot.png\">\n",
    "\n",
    "The plot forms a roughly diagonal line (with some variance), indicating a general trend where the number of sales tends to increase inline with the number of flyers distributed.\n",
    "\n",
    "\n",
    "The formula for log of base 10 is `=log(insert cell number)`\n",
    "\n",
    "\n",
    "\n",
    "<img src = \"scatter_rel.png\">\n",
    "\n",
    "\n",
    "This plot seems to indicate some kind of relationship between rainfall and sales, with sales falling as rainfall increases. However, the line formed by the plots is curved. This often means there is a non-linear, possibly logarithmic relationship. "
   ]
  },
  {
   "cell_type": "markdown",
   "metadata": {},
   "source": [
    "<img src = \"log_sales.png\">\n",
    "\n",
    "\n",
    "**Note** that this plot shows a linear relationship between the log of rainfall and the log of sales. This is potentially useful as we explore relationships in the data, as it is easier to calculate a linear equation that relates rainfall to sales than to define a logarithmic equation to do the same."
   ]
  },
  {
   "cell_type": "markdown",
   "metadata": {},
   "source": [
    "## Descriptive Statistics\n",
    "\n",
    "You can also create or calculate descriptive statistics from your data. These are the Central Tendencies and will help you understand or define the \"shape\" of your data. For example, by finding measures on central tendency (the most common “typical” values) and measures of variance (how much difference there is between the most common values and other values that are higher or lower).\n",
    "\n",
    "\n",
    "\n",
    "This is the basic syntax for using the function of mean. `=AVERAGE(H2:H366)`. The `Average` > well is the average (this is clearly self-explanatory).\n",
    "What is inside the parenthesis are the Cells **From H2 until H366**. You can also use comma **H2,H5,H7** for just specific cells that will be used for calculating the mean.\n",
    "\n",
    "`=MEDIAN(H2:H366)`\n",
    "\n",
    "`=MODE.SNGL(H2:H366)` \n",
    "\n",
    "> the `SNGL` is for data that is only the most frequent\n",
    "\n",
    "> there is also the `MULT` which shows all frequently occurring values. (if there is more than one mode)\n",
    "\n",
    "`=VAR.P(H2:H366)`\n",
    "\n",
    ">`var.p` if it's the whole population and `var.s` for the sample.\n",
    "\n",
    ">The Variance is the sigma squared where it is not on the scale with the values but allows you to see the dispersion of the values from the mean.\n",
    "\n",
    "\n",
    "`=STDEV.P(H2:H366)`   \n",
    "> `stdev.p` for population, `stdev.s` for the sample\n",
    "\n",
    ">This value is now in scale with the mean, it is the square root of the variance, thus just sigma.\n",
    "\n",
    ">The value shows you what are the values that are near the mean basically.\n",
    "\n",
    "You can tell this through a graph by using a **histogram**. The histogram will show you the frequencies of data that occur in sets. These sets or bins are the range of data that the dataset has."
   ]
  },
  {
   "cell_type": "markdown",
   "metadata": {},
   "source": [
    "## How would you visualize the distribution of something you are analyzing?\n",
    "\n",
    "Here we use what we knew earlier, the *histogram*.\n",
    "<img src = \"histogram.png\">"
   ]
  },
  {
   "cell_type": "markdown",
   "metadata": {},
   "source": [
    "What did we get from the chart above?\n",
    "\n",
    "The histogram shows the frequency of different values for Sales values grouped into ranges, or bins. For example, there are around 15 days with a Sales value between 10.4 and 13.8; and there are around 20 days with a Sales value between 34.2 and 37.6. (ranges are just bins, that one bar you are seeing is a bin)\n",
    "\n",
    "\n",
    "- The most frequently occurring Sales values are between 24 and 27.5. This range includes the mean, median, and mode statistics you calculated previously. In other words, on most days, the number of sales was more or less in the middle of the lowest and highest selling days. \n",
    "\n",
    "\n",
    "- The distribution is approximately symmetrical around the middle values, forming a “bellshaped curve” that tapers evenly towards the ends; where there are few occurrences of extreme values for Sales. Statisticians refer to this kind of distribution as a normal distribution. \n",
    "\n",
    "\n",
    "- The standard deviation you calculated previously is just under **6.9**. This statistic provides a standard unit of variance around the mean (which is just over 25.3). The data within 1 standard deviation above or below the mean) therefore includes values from approximately 18.4 to around 32.2, as shown here: \n",
    "\n",
    "<img src = \"distribution.png\", width = \"400\">\n",
    " \n",
    "\n",
    "- In a normal distribution, around 68.26% of the data falls within a single standard deviation; so in this case, the number of sales was between 18.4 and 32.2 on 68.26% of the days. Around 95.45% of values fall within 2 standard deviations in a normal distribution, so there were between 11.5 and 39.1 sales on 95.4% of days."
   ]
  },
  {
   "cell_type": "markdown",
   "metadata": {},
   "source": [
    "You will also come across with data that doesn't have a normal distribution.\n",
    "\n",
    "<img src = \"not_normal_distribution.png\">"
   ]
  },
  {
   "cell_type": "markdown",
   "metadata": {},
   "source": [
    "### Histogram on the left\n",
    "-  The median value is around 0.74, so on half the days there was less rain than this, and on half there was more; however, on a rare few days, there was much more rain than this - as much as 2.42 to 2.55. \n",
    "\n",
    "- These infrequent days of extremely high rainfall are skewing the distribution by “pulling” the mean to the right. \n",
    "\n",
    "- This results in a long tail of infrequently occurring values that tapers towards the right.\n",
    "\n",
    "- We therefore refer to this as a right-skewed distribution (had the tail pulled the mean to the left, it would be a left-skewed distribution).\n",
    "\n",
    "### Box and Whiskers Plot on the right\n",
    "\n",
    "\n",
    "- The line indicating the median (50th percentile) noticeably lower than the X indicating the mean. \n",
    "\n",
    "- The filled box, representing the 2nd and 3rd quartiles represents 50% of the data – in other words, on half of the days, the rainfall was between around 0.6 and 0.8. \n",
    "- The dots indicate outliers; rare values that are considered extreme compared to the typical range of values, which lies within the whiskers. \n",
    "\n",
    "- Even discounting the outliers, the range of values in the 4th quartile is larger than that of the other quartiles."
   ]
  },
  {
   "cell_type": "markdown",
   "metadata": {},
   "source": [
    "## Working on Samples\n",
    "\n",
    "\n"
   ]
  },
  {
   "cell_type": "markdown",
   "metadata": {},
   "source": [
    "There is a function `=rand()` which randomly asigns a cell with numbers *2 decimals* between 0 and 1. \n",
    "\n",
    "Another variation of this is `=randbetween(bottom, top)` which randomly places a whole number between the bottom and the top numbers.\n",
    "\n",
    "What do we do with this?\n",
    "\n",
    "We can use this to aggregate rows with random values and take a sample out of the population. If we assign random numbers to all of the rows and then sort it by either ascending or descending order, you will now have first 50 randomized data values.\n",
    "\n",
    "You can use several samples from this data and then use statistical computations from them.\n",
    "\n",
    "If you use enough samples and get all of its distribution, it will most likely show a normal distribution. This is due to Central Limit Theorem which I will discuss later."
   ]
  },
  {
   "cell_type": "markdown",
   "metadata": {},
   "source": [
    "## Inferential Statistics and Hypothesis Testing\n",
    "\n",
    "From the name itself, it suggests to infer something out of the data that we have. If from a sample of things, what can we infer to more number of things from the things that we found out of that small sample of things. That sounded confusing so here, relationships from the sample **might** be very probable for other samples of the whole population of what your are studying on.\n",
    "\n",
    "\n",
    ">Note: Statisticians often quote the mantra “correlation is not causation”. We can use correlation to determine that days with high sales volumes tend to have high temperatures; but we can’t say that Rosie sold a lot of lemonade on a particular day because the temperature was high – just as we can’t say that a day was particularly hot because Rosie sold a lot of lemonade. In fact, there could be a “hidden” third factor that affects both sales of lemonade and temperature. For example, during the summer months, when lemons are in season, the temperature tends to be higher. \n",
    "\n",
    "**Correlations measure the strength of the relationship, or association, between two variables.**   \n",
    "\n",
    "The most common correlation calculation is the Pearson product-moment correlation, which measures the linear association between two variables. \n",
    "\n",
    "\n",
    "The sample’s correlation coefficient is denoted by r while the population correlation is denoted by ρ or R. \n",
    "\n",
    "How to Interpret a Correlation Coefficient The sign and absolute value of a correlation describe the direction and magnitude of the relationship between two variables. \n",
    "\n",
    "To interpret correlations, keep in mind that: \n",
    "\n",
    "\n",
    "- The value of a correlation coefficient ranges between -1 and 1. \n",
    "\n",
    "- The closer the absolute value is to 1, the stronger the linear relationship. The closer to 0, the weaker the relationship. Because we almost always mean a Pearson correlation, which is measure of linear association, a correlation near 0 doesn’t necessarily mean that there is no relationship; it only means that the relationship is not linear (it could be curvilinear or logarithmic, for example). \n",
    "\n",
    "- The sign of the correlation tells you the direction of the relationship. Positive correlations mean that the variables are moving in the same direction; as one increases, so does the other. Negative correlations mean that the variables are moving in opposite directions; as one increases, the other decreases. \n",
    "\n",
    "\n",
    "### For conducting Real Analysis, this is what happens or what you should be doing\n",
    "\n",
    "\n",
    "How to Calculate a Correlation Coefficient \n",
    "\n",
    "1. State your null and alternate hypotheses. For example,  \n",
    "𝐻0: 𝑟 = 0, 𝐻𝑎: 𝑟 ≠ 0 𝐻0: 𝑟 ≥ 0, 𝐻𝑎: 𝑟 < 0 𝐻0: 𝑟 ≤ 0, 𝐻𝑎: 𝑟 > 0 \n",
    " \n",
    "2. Establish your significance level. \n",
    "\n",
    "3. Run the statistical analysis. In the case of correlations, the formula is as follows: \n",
    "\n",
    "\n",
    "$$r = \\frac{1}{n - 1} {\\sum} (\\frac {X - \\bar X}{S_x}) (\\frac {Y - \\bar Y}{S_y}) $$\n",
    "\n",
    "\n",
    "where n is the number of observations in the sample, x is a given value of the first variable, 𝑥̅ is the sample mean of x, y is a given value of the second variable, 𝑦 ̅ is the sample mean of y, $s_x$ is the sample standard deviation of x, and $s_y$ is the sample standard deviation of y.  \n",
    "\n",
    "\n",
    "Calculate the degrees of freedom. Degrees of freedom is the number of values in your data that can be allowed to vary and still result in the same mean. Imagine you have four numbers (a, b, c, and d) that must add up to a total of x. You are free to choose the first three numbers at random, but the fourth must be chosen so that it makes the total equal to x because that’s the only way you can obtain the same mean. Thus, in this example, three is the number that you use for degrees of freedom. \n",
    "For correlations, df = n-2 because two parameters (means) are estimated. \n",
    "\n",
    "4.Compare the correlation you obtain to a table of critical values for correlations. If the correlation obtained is larger than the correlation in that table given your alternate hypothesis, significance level, and degrees of freedom, the correlation is considered significant, and you reject the null hypothesis.\n",
    "\n",
    "*This is what you should be doing but, in excel you just use the function `correl.p()` for population or `correl.s()` for sample.*\n",
    "\n",
    "**Check the syntax of the equation for Jupyter markdown reference.**"
   ]
  },
  {
   "cell_type": "markdown",
   "metadata": {},
   "source": [
    "## Using Z-test in Excel"
   ]
  },
  {
   "cell_type": "markdown",
   "metadata": {},
   "source": [
    "`=Z.TEST(K12:K183, H2, H3)` \n",
    "\n",
    "Assuming that in Cell `H2` is Mean on the whole population.\n",
    "\n",
    "Cell `H3` is the Standard deviation of the whole population\n",
    "\n",
    "Cells `K12 - K183` are samples which are randomly taken from the population using the sorting of random numbers using the function `rand()`.\n",
    "\n",
    "\n",
    "This calculates a p-value, which is the probability of observing a sample mean at least as high as your sample mean distribution, from a population with a mean of *whatever value of the population mean*, and a standard deviation of *the population*. \n",
    "\n",
    "Commonly, you use a value of 0.05 (or 5%) as the threshold for rejecting the null hypothesis in favor of the alternative hypothesis. So in this case, the p-value is much lower than this threshold and we can reject the hypothesis that the increase in values can be explained by random variance and conclude that there is some nonrandom factor at work here. Note that we can’t categorically say that the increase in values is because of the higher number of a variable.\n",
    "\n",
    "It’s worth briefly thinking a little bit about what this means. What does this show? We have shown that, had the results been due to chance (i.e., H0 = true), we could possibly still get these results. In other words, we haven’t disproven chance as an explanation. However, we showed that the probability of getting these results is very, very, very small…only 0.0000000000000000003. We are safe in rejecting chance as an explanation for our results here. "
   ]
  },
  {
   "cell_type": "markdown",
   "metadata": {},
   "source": [
    "### 2 tailed T-test notes\n",
    "\n",
    "There’s a lot more to hypothesis testing than we have room to discuss here. The example above is a 1-sample test (it tests a single sample of data to compare the sample mean with a hypothesized mean). The example is also a 1-tailed test, and in this case, the test is right-tailed (our p-value describes the probability of a sample mean being significantly higher than the hypothesized mean, which means the critical area for rejection of the null hypothesis is under the right tail of a normal distribution curve. \n",
    "\n",
    "You can also use the Excel Z.TEST function to perform a two-tailed test, in which the alternative hypothesis is that the sample mean is not equal to the hypothesized mean (so there are critical areas under both the right and left tails of the normal distribution curve). To perform 2-tailed tests in Excel, you need to manipulate the value retuned by the Z.TEST function to calculate the correct p-value as follows: \n",
    "\n",
    "> `= 2*MIN(Z.TEST(SampleRange, HypothesizedMean [,PopStDev]),    1–Z.TEST(SampleRange, HypothesizedMean [,PopStDev]))`"
   ]
  },
  {
   "cell_type": "markdown",
   "metadata": {},
   "source": [
    "Reference:\n",
    "     - Edx - (Analyzing and Visualizing in Excel / Introduction to Data Science)\n",
    "     - Uber Analytics Exam v3.1\n"
   ]
  }
 ],
 "metadata": {
  "kernelspec": {
   "display_name": "Python 3",
   "language": "python",
   "name": "python3"
  },
  "language_info": {
   "codemirror_mode": {
    "name": "ipython",
    "version": 3
   },
   "file_extension": ".py",
   "mimetype": "text/x-python",
   "name": "python",
   "nbconvert_exporter": "python",
   "pygments_lexer": "ipython3",
   "version": "3.6.4"
  }
 },
 "nbformat": 4,
 "nbformat_minor": 2
}
